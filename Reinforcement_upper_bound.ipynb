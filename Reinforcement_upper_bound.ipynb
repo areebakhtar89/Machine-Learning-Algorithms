{
 "cells": [
  {
   "cell_type": "code",
   "execution_count": 4,
   "metadata": {
    "ExecuteTime": {
     "end_time": "2020-10-11T07:57:31.999422Z",
     "start_time": "2020-10-11T07:57:31.705625Z"
    }
   },
   "outputs": [
    {
     "name": "stdout",
     "output_type": "stream",
     "text": [
      "[120, 47, 7, 38, 1675, 1, 27, 236, 20, 7]\n",
      "2178\n",
      "[705, 387, 186, 345, 6323, 150, 292, 1170, 256, 186]\n",
      "10000\n"
     ]
    }
   ],
   "source": [
    "import pandas as pd\n",
    "import numpy as np\n",
    "import matplotlib.pyplot as plt\n",
    "import math\n",
    "\n",
    "data  = pd.read_csv('Data_sets/Ads_CTR_Optimisation.csv')\n",
    "\n",
    "data\n",
    "\n",
    "import random\n",
    "N = 10000\n",
    "d = 10\n",
    "ads_selected = []\n",
    "total_rewards = 0\n",
    "sum_rewards = [0] * d\n",
    "no_of_selections = [0] * d\n",
    "\n",
    "for n in range(N):\n",
    "    ad=0\n",
    "    max_upper_bound=0\n",
    "    for i in range(0,10):\n",
    "        if(no_of_selections[i]>0):\n",
    "            average_reward = sum_rewards[i]/no_of_selections[i]\n",
    "            delta_i = math.sqrt(3/2*math.log(n+1)/no_of_selections[i])\n",
    "            upper_bound = average_reward+delta_i\n",
    "        else:\n",
    "            upper_bound = 1e400\n",
    "            \n",
    "        if(upper_bound>max_upper_bound):\n",
    "            ad=i\n",
    "            max_upper_bound=upper_bound\n",
    "            \n",
    "    ads_selected.append(ad)\n",
    "    reward = data.values[n,ad]\n",
    "    sum_rewards[ad] = sum_rewards[ad] + reward\n",
    "    total_rewards = total_rewards + reward\n",
    "    no_of_selections[ad] = no_of_selections[ad]+1\n",
    "\n",
    "print(sum_rewards)\n",
    "print(total_rewards)\n",
    "print(no_of_selections)\n",
    "print(sum(no_of_selections))\n"
   ]
  },
  {
   "cell_type": "code",
   "execution_count": 5,
   "metadata": {
    "ExecuteTime": {
     "end_time": "2020-10-11T07:58:33.354386Z",
     "start_time": "2020-10-11T07:58:33.096944Z"
    }
   },
   "outputs": [
    {
     "data": {
      "image/png": "[encoded data removed]",
      "text/plain": [
       "<Figure size 1152x576 with 1 Axes>"
      ]
     },
     "metadata": {
      "needs_background": "light"
     },
     "output_type": "display_data"
    }
   ],
   "source": [
    "plt.figure(figsize=(16,8))\n",
    "plt.hist(ads_selected)\n",
    "plt.title('Histogram of ads selected')\n",
    "plt.xlabel('Ads')\n",
    "plt.ylabel('No of times each ad was selected');"
   ]
  }
 ],
 "metadata": {
  "kernelspec": {
   "display_name": "Python 3",
   "language": "python",
   "name": "python3"
  },
  "language_info": {
   "codemirror_mode": {
    "name": "ipython",
    "version": 3
   },
   "file_extension": ".py",
   "mimetype": "text/x-python",
   "name": "python",
   "nbconvert_exporter": "python",
   "pygments_lexer": "ipython3",
   "version": "3.7.6"
  },
  "toc": {
   "base_numbering": 1,
   "nav_menu": {},
   "number_sections": true,
   "sideBar": true,
   "skip_h1_title": false,
   "title_cell": "Table of Contents",
   "title_sidebar": "Contents",
   "toc_cell": false,
   "toc_position": {},
   "toc_section_display": true,
   "toc_window_display": false
  }
 },
 "nbformat": 4,
 "nbformat_minor": 4
}
